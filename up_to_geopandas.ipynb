{
  "nbformat": 4,
  "nbformat_minor": 0,
  "metadata": {
    "colab": {
      "provenance": [],
      "authorship_tag": "ABX9TyPRQWgNx9kiRmpPNzglAhVc",
      "include_colab_link": true
    },
    "kernelspec": {
      "name": "python3",
      "display_name": "Python 3"
    }
  },
  "cells": [
    {
      "cell_type": "markdown",
      "metadata": {
        "id": "view-in-github",
        "colab_type": "text"
      },
      "source": [
        "<a href=\"https://colab.research.google.com/github/verticalmeadows/FreeCodeCamp-Pandas-Real-Life-Example/blob/master/up_to_geopandas.ipynb\" target=\"_parent\"><img src=\"https://colab.research.google.com/assets/colab-badge.svg\" alt=\"Open In Colab\"/></a>"
      ]
    },
    {
      "cell_type": "code",
      "metadata": {
        "id": "QPUnGdTERd8z"
      },
      "source": [],
      "execution_count": null,
      "outputs": []
    },
    {
      "cell_type": "markdown",
      "metadata": {
        "id": "YOmm9qo5RemH"
      },
      "source": [
        "# Syntax in Python"
      ]
    },
    {
      "cell_type": "code",
      "metadata": {
        "colab": {
          "base_uri": "https://localhost:8080/"
        },
        "id": "KT_pwYCwRt0-",
        "outputId": "73a5f3e9-48f6-438b-82b3-65737833d7e1"
      },
      "source": [
        "# set the midpoint\n",
        "midpoint = 5\n",
        "\n",
        "# make two empty lists\n",
        "lower = []; upper = []\n",
        "\n",
        "# split the numbers into lower and upper\n",
        "for i in range(10):\n",
        "    if (i < midpoint):\n",
        "        lower.append(i)\n",
        "    else:\n",
        "        upper.append(i)\n",
        "\n",
        "print(\"lower:\", lower)\n",
        "print(\"upper:\", upper)"
      ],
      "execution_count": null,
      "outputs": [
        {
          "output_type": "stream",
          "text": [
            "lower: [0, 1, 2, 3, 4]\n",
            "upper: [5, 6, 7, 8, 9]\n"
          ],
          "name": "stdout"
        }
      ]
    },
    {
      "cell_type": "code",
      "metadata": {
        "colab": {
          "base_uri": "https://localhost:8080/"
        },
        "id": "nz9s-lyLSsFx",
        "outputId": "845bc0ce-f263-4b9c-b57f-518945f4d930"
      },
      "source": [
        "x = 3\n",
        "y = 4\n",
        "if x < 4 :\n",
        "  print(str(x)+ ' is small.')\n",
        "print(y)"
      ],
      "execution_count": null,
      "outputs": [
        {
          "output_type": "stream",
          "text": [
            "3 is small.\n",
            "4\n"
          ],
          "name": "stdout"
        }
      ]
    },
    {
      "cell_type": "code",
      "metadata": {
        "colab": {
          "base_uri": "https://localhost:8080/"
        },
        "id": "wdUd46hrUXzM",
        "outputId": "f4119c03-366d-4963-d0f2-47c4cc800121"
      },
      "source": [
        "x = 1 + 2 + 3 \\ # backslash works in markdown as well\n",
        "+ 4 + 5\n",
        "print(x)\n",
        "x"
      ],
      "execution_count": null,
      "outputs": [
        {
          "output_type": "stream",
          "text": [
            "15\n"
          ],
          "name": "stdout"
        },
        {
          "output_type": "execute_result",
          "data": {
            "text/plain": [
              "15"
            ]
          },
          "metadata": {
            "tags": []
          },
          "execution_count": 5
        }
      ]
    },
    {
      "cell_type": "code",
      "metadata": {
        "colab": {
          "base_uri": "https://localhost:8080/"
        },
        "id": "VqVrIvfRU0fo",
        "outputId": "9c33b80d-6964-45e5-a13b-f204cc3c3c79"
      },
      "source": [
        "print(x,y,\"they are arguments\")"
      ],
      "execution_count": null,
      "outputs": [
        {
          "output_type": "stream",
          "text": [
            "15 4 they are arguments\n"
          ],
          "name": "stdout"
        }
      ]
    },
    {
      "cell_type": "markdown",
      "metadata": {
        "id": "LWCKhdMDUwAR"
      },
      "source": [
        "# Semantics"
      ]
    },
    {
      "cell_type": "code",
      "metadata": {
        "id": "jUCvOGsRUyOd"
      },
      "source": [],
      "execution_count": null,
      "outputs": []
    },
    {
      "cell_type": "markdown",
      "metadata": {
        "id": "qfd4nVULU8Pn"
      },
      "source": [
        "no need to explicitly specify the type of our variables. It is assigned automatically. As it is a dynamically typed language.\n"
      ]
    },
    {
      "cell_type": "code",
      "metadata": {
        "colab": {
          "base_uri": "https://localhost:8080/"
        },
        "id": "M7YyeOtZU635",
        "outputId": "eeaea0e8-eecf-4f18-a512-5deb443e3c7c"
      },
      "source": [
        "type(x)"
      ],
      "execution_count": null,
      "outputs": [
        {
          "output_type": "execute_result",
          "data": {
            "text/plain": [
              "int"
            ]
          },
          "metadata": {
            "tags": []
          },
          "execution_count": 7
        }
      ]
    },
    {
      "cell_type": "code",
      "metadata": {
        "colab": {
          "base_uri": "https://localhost:8080/"
        },
        "id": "2r673AvGVbeQ",
        "outputId": "e1810f84-f1ac-42c1-f3b2-765694724cd2"
      },
      "source": [
        "z = 3.4\n",
        "type(z)"
      ],
      "execution_count": null,
      "outputs": [
        {
          "output_type": "execute_result",
          "data": {
            "text/plain": [
              "float"
            ]
          },
          "metadata": {
            "tags": []
          },
          "execution_count": 8
        }
      ]
    },
    {
      "cell_type": "code",
      "metadata": {
        "colab": {
          "base_uri": "https://localhost:8080/"
        },
        "id": "s2TDsQa6VU_z",
        "outputId": "f5627335-f778-48b5-d0a8-87d8e8e9c8ba"
      },
      "source": [
        "x.conjugate"
      ],
      "execution_count": null,
      "outputs": [
        {
          "output_type": "execute_result",
          "data": {
            "text/plain": [
              "<function int.conjugate>"
            ]
          },
          "metadata": {
            "tags": []
          },
          "execution_count": 9
        }
      ]
    },
    {
      "cell_type": "markdown",
      "metadata": {
        "id": "dR6RbFGXV5za"
      },
      "source": [
        "when typing \".\" after a variable, leike x. we can see the different functions and stuff that are related to the specific type.\\\n",
        "dir(x) shows us what can be done with a specific thing\n",
        "same with dir(int)\n",
        "functions are purple squares in the instant popup list"
      ]
    },
    {
      "cell_type": "code",
      "metadata": {
        "id": "w-2BOofFWJ2X"
      },
      "source": [],
      "execution_count": null,
      "outputs": []
    },
    {
      "cell_type": "markdown",
      "metadata": {
        "id": "mCIuYYDxWmIY"
      },
      "source": [
        "we can get help by typing ? after some function\n",
        "e.g. x.conjugate?"
      ]
    },
    {
      "cell_type": "code",
      "metadata": {
        "id": "Ej7VY_6MWrWe"
      },
      "source": [
        "x.conjugate?"
      ],
      "execution_count": null,
      "outputs": []
    },
    {
      "cell_type": "code",
      "metadata": {
        "id": "SaSXqKlNW2G_"
      },
      "source": [
        "x = \"csakany\"\n",
        "x = 1\n",
        "x = [1, 2, 3]"
      ],
      "execution_count": null,
      "outputs": []
    },
    {
      "cell_type": "code",
      "metadata": {
        "colab": {
          "base_uri": "https://localhost:8080/"
        },
        "id": "iq2zxbOoXA-J",
        "outputId": "8b344879-5fd1-4cf6-ebb1-82bb43f54321"
      },
      "source": [
        "x = [1, 2, 3]\n",
        "y = x\n",
        "print(x)\n",
        "print(y)"
      ],
      "execution_count": null,
      "outputs": [
        {
          "output_type": "stream",
          "text": [
            "[1, 2, 3]\n",
            "[1, 2, 3]\n"
          ],
          "name": "stdout"
        }
      ]
    },
    {
      "cell_type": "code",
      "metadata": {
        "colab": {
          "base_uri": "https://localhost:8080/"
        },
        "id": "v2UxE6DdXHcT",
        "outputId": "678d1031-fab9-456e-d4cb-20f05576ab9c"
      },
      "source": [
        "type(x) # but x.type() wouldn't work"
      ],
      "execution_count": null,
      "outputs": [
        {
          "output_type": "execute_result",
          "data": {
            "text/plain": [
              "list"
            ]
          },
          "metadata": {
            "tags": []
          },
          "execution_count": 12
        }
      ]
    },
    {
      "cell_type": "code",
      "metadata": {
        "id": "3GtDem2gXIgx"
      },
      "source": [
        "x.append?"
      ],
      "execution_count": null,
      "outputs": []
    },
    {
      "cell_type": "code",
      "metadata": {
        "colab": {
          "base_uri": "https://localhost:8080/"
        },
        "id": "o73e0Bb7XUPY",
        "outputId": "f95d15e6-05d9-486c-df5b-91f76099cd37"
      },
      "source": [
        "x.append(4)\n",
        "print(y)\n",
        "print(x)"
      ],
      "execution_count": null,
      "outputs": [
        {
          "output_type": "stream",
          "text": [
            "[1, 2, 3, 4]\n",
            "[1, 2, 3, 4]\n"
          ],
          "name": "stdout"
        }
      ]
    },
    {
      "cell_type": "markdown",
      "metadata": {
        "id": "uW9ixnEFYHg3"
      },
      "source": [
        "there are mutable and immutable objects. Mutable ones are what?\n",
        "Immutable ones when created are completely new.\n",
        "\n",
        "Check how they behave. .append doens't change the pointer, just what's sitting at the memory place. x = x + 1 completely reassigns"
      ]
    },
    {
      "cell_type": "code",
      "metadata": {
        "colab": {
          "base_uri": "https://localhost:8080/"
        },
        "id": "iJelTx5uYND7",
        "outputId": "f8d742a6-aadf-41c3-dc22-64b6a03f2183"
      },
      "source": [
        "x = 3\n",
        "y = x\n",
        "print(x)\n",
        "print(y)"
      ],
      "execution_count": null,
      "outputs": [
        {
          "output_type": "stream",
          "text": [
            "3\n",
            "3\n"
          ],
          "name": "stdout"
        }
      ]
    },
    {
      "cell_type": "code",
      "metadata": {
        "colab": {
          "base_uri": "https://localhost:8080/"
        },
        "id": "7OdTRajjY-HJ",
        "outputId": "8b7e38b0-49eb-4c0e-c28d-015c5b48b76a"
      },
      "source": [
        "x = x + 1 # thisi is a reassignment, I'm changing the pointer in the memory. Y still points to the same memory lcation as before. Because integers are immutable values. So basically we create a new object\n",
        "print(x)\n",
        "print(y)"
      ],
      "execution_count": null,
      "outputs": [
        {
          "output_type": "stream",
          "text": [
            "5\n",
            "3\n"
          ],
          "name": "stdout"
        }
      ]
    },
    {
      "cell_type": "markdown",
      "source": [
        "# Title\n",
        "\n",
        "python script to write out polygon complexity  based on https://github.com/sical/polygons_complexity/blob/master/complexity.py"
      ],
      "metadata": {
        "id": "6hjO1-kitNFQ"
      }
    },
    {
      "cell_type": "code",
      "source": [
        "!pip install geopandas"
      ],
      "metadata": {
        "colab": {
          "base_uri": "https://localhost:8080/"
        },
        "id": "NUuOWGsPuGla",
        "outputId": "8ee6f50d-d354-4d6b-88dc-e74488366654"
      },
      "execution_count": null,
      "outputs": [
        {
          "output_type": "stream",
          "name": "stdout",
          "text": [
            "Collecting geopandas\n",
            "  Downloading geopandas-0.10.2-py2.py3-none-any.whl (1.0 MB)\n",
            "\u001b[?25l\r\u001b[K     |▎                               | 10 kB 23.2 MB/s eta 0:00:01\r\u001b[K     |▋                               | 20 kB 23.1 MB/s eta 0:00:01\r\u001b[K     |█                               | 30 kB 16.7 MB/s eta 0:00:01\r\u001b[K     |█▎                              | 40 kB 14.6 MB/s eta 0:00:01\r\u001b[K     |█▋                              | 51 kB 7.5 MB/s eta 0:00:01\r\u001b[K     |██                              | 61 kB 8.8 MB/s eta 0:00:01\r\u001b[K     |██▎                             | 71 kB 7.7 MB/s eta 0:00:01\r\u001b[K     |██▌                             | 81 kB 8.6 MB/s eta 0:00:01\r\u001b[K     |██▉                             | 92 kB 9.5 MB/s eta 0:00:01\r\u001b[K     |███▏                            | 102 kB 8.2 MB/s eta 0:00:01\r\u001b[K     |███▌                            | 112 kB 8.2 MB/s eta 0:00:01\r\u001b[K     |███▉                            | 122 kB 8.2 MB/s eta 0:00:01\r\u001b[K     |████▏                           | 133 kB 8.2 MB/s eta 0:00:01\r\u001b[K     |████▌                           | 143 kB 8.2 MB/s eta 0:00:01\r\u001b[K     |████▊                           | 153 kB 8.2 MB/s eta 0:00:01\r\u001b[K     |█████                           | 163 kB 8.2 MB/s eta 0:00:01\r\u001b[K     |█████▍                          | 174 kB 8.2 MB/s eta 0:00:01\r\u001b[K     |█████▊                          | 184 kB 8.2 MB/s eta 0:00:01\r\u001b[K     |██████                          | 194 kB 8.2 MB/s eta 0:00:01\r\u001b[K     |██████▍                         | 204 kB 8.2 MB/s eta 0:00:01\r\u001b[K     |██████▊                         | 215 kB 8.2 MB/s eta 0:00:01\r\u001b[K     |███████                         | 225 kB 8.2 MB/s eta 0:00:01\r\u001b[K     |███████▎                        | 235 kB 8.2 MB/s eta 0:00:01\r\u001b[K     |███████▋                        | 245 kB 8.2 MB/s eta 0:00:01\r\u001b[K     |████████                        | 256 kB 8.2 MB/s eta 0:00:01\r\u001b[K     |████████▎                       | 266 kB 8.2 MB/s eta 0:00:01\r\u001b[K     |████████▋                       | 276 kB 8.2 MB/s eta 0:00:01\r\u001b[K     |█████████                       | 286 kB 8.2 MB/s eta 0:00:01\r\u001b[K     |█████████▏                      | 296 kB 8.2 MB/s eta 0:00:01\r\u001b[K     |█████████▌                      | 307 kB 8.2 MB/s eta 0:00:01\r\u001b[K     |█████████▉                      | 317 kB 8.2 MB/s eta 0:00:01\r\u001b[K     |██████████▏                     | 327 kB 8.2 MB/s eta 0:00:01\r\u001b[K     |██████████▌                     | 337 kB 8.2 MB/s eta 0:00:01\r\u001b[K     |██████████▉                     | 348 kB 8.2 MB/s eta 0:00:01\r\u001b[K     |███████████▏                    | 358 kB 8.2 MB/s eta 0:00:01\r\u001b[K     |███████████▍                    | 368 kB 8.2 MB/s eta 0:00:01\r\u001b[K     |███████████▊                    | 378 kB 8.2 MB/s eta 0:00:01\r\u001b[K     |████████████                    | 389 kB 8.2 MB/s eta 0:00:01\r\u001b[K     |████████████▍                   | 399 kB 8.2 MB/s eta 0:00:01\r\u001b[K     |████████████▊                   | 409 kB 8.2 MB/s eta 0:00:01\r\u001b[K     |█████████████                   | 419 kB 8.2 MB/s eta 0:00:01\r\u001b[K     |█████████████▍                  | 430 kB 8.2 MB/s eta 0:00:01\r\u001b[K     |█████████████▋                  | 440 kB 8.2 MB/s eta 0:00:01\r\u001b[K     |██████████████                  | 450 kB 8.2 MB/s eta 0:00:01\r\u001b[K     |██████████████▎                 | 460 kB 8.2 MB/s eta 0:00:01\r\u001b[K     |██████████████▋                 | 471 kB 8.2 MB/s eta 0:00:01\r\u001b[K     |███████████████                 | 481 kB 8.2 MB/s eta 0:00:01\r\u001b[K     |███████████████▎                | 491 kB 8.2 MB/s eta 0:00:01\r\u001b[K     |███████████████▋                | 501 kB 8.2 MB/s eta 0:00:01\r\u001b[K     |███████████████▉                | 512 kB 8.2 MB/s eta 0:00:01\r\u001b[K     |████████████████▏               | 522 kB 8.2 MB/s eta 0:00:01\r\u001b[K     |████████████████▌               | 532 kB 8.2 MB/s eta 0:00:01\r\u001b[K     |████████████████▉               | 542 kB 8.2 MB/s eta 0:00:01\r\u001b[K     |█████████████████▏              | 552 kB 8.2 MB/s eta 0:00:01\r\u001b[K     |█████████████████▌              | 563 kB 8.2 MB/s eta 0:00:01\r\u001b[K     |█████████████████▉              | 573 kB 8.2 MB/s eta 0:00:01\r\u001b[K     |██████████████████              | 583 kB 8.2 MB/s eta 0:00:01\r\u001b[K     |██████████████████▍             | 593 kB 8.2 MB/s eta 0:00:01\r\u001b[K     |██████████████████▊             | 604 kB 8.2 MB/s eta 0:00:01\r\u001b[K     |███████████████████             | 614 kB 8.2 MB/s eta 0:00:01\r\u001b[K     |███████████████████▍            | 624 kB 8.2 MB/s eta 0:00:01\r\u001b[K     |███████████████████▊            | 634 kB 8.2 MB/s eta 0:00:01\r\u001b[K     |████████████████████            | 645 kB 8.2 MB/s eta 0:00:01\r\u001b[K     |████████████████████▎           | 655 kB 8.2 MB/s eta 0:00:01\r\u001b[K     |████████████████████▋           | 665 kB 8.2 MB/s eta 0:00:01\r\u001b[K     |█████████████████████           | 675 kB 8.2 MB/s eta 0:00:01\r\u001b[K     |█████████████████████▎          | 686 kB 8.2 MB/s eta 0:00:01\r\u001b[K     |█████████████████████▋          | 696 kB 8.2 MB/s eta 0:00:01\r\u001b[K     |██████████████████████          | 706 kB 8.2 MB/s eta 0:00:01\r\u001b[K     |██████████████████████▎         | 716 kB 8.2 MB/s eta 0:00:01\r\u001b[K     |██████████████████████▋         | 727 kB 8.2 MB/s eta 0:00:01\r\u001b[K     |██████████████████████▉         | 737 kB 8.2 MB/s eta 0:00:01\r\u001b[K     |███████████████████████▏        | 747 kB 8.2 MB/s eta 0:00:01\r\u001b[K     |███████████████████████▌        | 757 kB 8.2 MB/s eta 0:00:01\r\u001b[K     |███████████████████████▉        | 768 kB 8.2 MB/s eta 0:00:01\r\u001b[K     |████████████████████████▏       | 778 kB 8.2 MB/s eta 0:00:01\r\u001b[K     |████████████████████████▌       | 788 kB 8.2 MB/s eta 0:00:01\r\u001b[K     |████████████████████████▉       | 798 kB 8.2 MB/s eta 0:00:01\r\u001b[K     |█████████████████████████       | 808 kB 8.2 MB/s eta 0:00:01\r\u001b[K     |█████████████████████████▍      | 819 kB 8.2 MB/s eta 0:00:01\r\u001b[K     |█████████████████████████▊      | 829 kB 8.2 MB/s eta 0:00:01\r\u001b[K     |██████████████████████████      | 839 kB 8.2 MB/s eta 0:00:01\r\u001b[K     |██████████████████████████▍     | 849 kB 8.2 MB/s eta 0:00:01\r\u001b[K     |██████████████████████████▊     | 860 kB 8.2 MB/s eta 0:00:01\r\u001b[K     |███████████████████████████     | 870 kB 8.2 MB/s eta 0:00:01\r\u001b[K     |███████████████████████████▎    | 880 kB 8.2 MB/s eta 0:00:01\r\u001b[K     |███████████████████████████▋    | 890 kB 8.2 MB/s eta 0:00:01\r\u001b[K     |████████████████████████████    | 901 kB 8.2 MB/s eta 0:00:01\r\u001b[K     |████████████████████████████▎   | 911 kB 8.2 MB/s eta 0:00:01\r\u001b[K     |████████████████████████████▋   | 921 kB 8.2 MB/s eta 0:00:01\r\u001b[K     |█████████████████████████████   | 931 kB 8.2 MB/s eta 0:00:01\r\u001b[K     |█████████████████████████████▎  | 942 kB 8.2 MB/s eta 0:00:01\r\u001b[K     |█████████████████████████████▌  | 952 kB 8.2 MB/s eta 0:00:01\r\u001b[K     |█████████████████████████████▉  | 962 kB 8.2 MB/s eta 0:00:01\r\u001b[K     |██████████████████████████████▏ | 972 kB 8.2 MB/s eta 0:00:01\r\u001b[K     |██████████████████████████████▌ | 983 kB 8.2 MB/s eta 0:00:01\r\u001b[K     |██████████████████████████████▉ | 993 kB 8.2 MB/s eta 0:00:01\r\u001b[K     |███████████████████████████████▏| 1.0 MB 8.2 MB/s eta 0:00:01\r\u001b[K     |███████████████████████████████▌| 1.0 MB 8.2 MB/s eta 0:00:01\r\u001b[K     |███████████████████████████████▊| 1.0 MB 8.2 MB/s eta 0:00:01\r\u001b[K     |████████████████████████████████| 1.0 MB 8.2 MB/s \n",
            "\u001b[?25hRequirement already satisfied: shapely>=1.6 in /usr/local/lib/python3.7/dist-packages (from geopandas) (1.8.1.post1)\n",
            "Collecting pyproj>=2.2.0\n",
            "  Downloading pyproj-3.2.1-cp37-cp37m-manylinux2010_x86_64.whl (6.3 MB)\n",
            "\u001b[K     |████████████████████████████████| 6.3 MB 42.5 MB/s \n",
            "\u001b[?25hCollecting fiona>=1.8\n",
            "  Downloading Fiona-1.8.21-cp37-cp37m-manylinux2014_x86_64.whl (16.7 MB)\n",
            "\u001b[K     |████████████████████████████████| 16.7 MB 21.8 MB/s \n",
            "\u001b[?25hRequirement already satisfied: pandas>=0.25.0 in /usr/local/lib/python3.7/dist-packages (from geopandas) (1.3.5)\n",
            "Collecting cligj>=0.5\n",
            "  Downloading cligj-0.7.2-py3-none-any.whl (7.1 kB)\n",
            "Requirement already satisfied: click>=4.0 in /usr/local/lib/python3.7/dist-packages (from fiona>=1.8->geopandas) (7.1.2)\n",
            "Requirement already satisfied: six>=1.7 in /usr/local/lib/python3.7/dist-packages (from fiona>=1.8->geopandas) (1.15.0)\n",
            "Requirement already satisfied: certifi in /usr/local/lib/python3.7/dist-packages (from fiona>=1.8->geopandas) (2021.10.8)\n",
            "Requirement already satisfied: setuptools in /usr/local/lib/python3.7/dist-packages (from fiona>=1.8->geopandas) (57.4.0)\n",
            "Collecting munch\n",
            "  Downloading munch-2.5.0-py2.py3-none-any.whl (10 kB)\n",
            "Collecting click-plugins>=1.0\n",
            "  Downloading click_plugins-1.1.1-py2.py3-none-any.whl (7.5 kB)\n",
            "Requirement already satisfied: attrs>=17 in /usr/local/lib/python3.7/dist-packages (from fiona>=1.8->geopandas) (21.4.0)\n",
            "Requirement already satisfied: pytz>=2017.3 in /usr/local/lib/python3.7/dist-packages (from pandas>=0.25.0->geopandas) (2022.1)\n",
            "Requirement already satisfied: numpy>=1.17.3 in /usr/local/lib/python3.7/dist-packages (from pandas>=0.25.0->geopandas) (1.21.6)\n",
            "Requirement already satisfied: python-dateutil>=2.7.3 in /usr/local/lib/python3.7/dist-packages (from pandas>=0.25.0->geopandas) (2.8.2)\n",
            "Installing collected packages: munch, cligj, click-plugins, pyproj, fiona, geopandas\n",
            "Successfully installed click-plugins-1.1.1 cligj-0.7.2 fiona-1.8.21 geopandas-0.10.2 munch-2.5.0 pyproj-3.2.1\n"
          ]
        }
      ]
    },
    {
      "cell_type": "code",
      "source": [
        "# -*- coding: utf-8 -*-\n",
        "\"\"\"\n",
        "Created on Thu May 31 15:28:44 2018\n",
        "@author: thomas\n",
        "\"\"\"\n",
        "\n",
        "import math\n",
        "import os\n",
        "import pandas as pd\n",
        "import geopandas as gpd\n",
        "from tabulate import tabulate as tb\n",
        "\n",
        "\n",
        "def get_notches(poly):\n",
        "    \"\"\"\n",
        "    Determine the number of notches in a polygon object and calculate\n",
        "    normalized notches of polygon\n",
        "\n",
        "    Based on:\n",
        "        \"Measuring the Complexity of Polygonal Objects\"\n",
        "        (Thomas Brinkhoff, Hans-Peter Kriegel, Ralf Schneider, Alexander Braun)\n",
        "        http://citeseerx.ist.psu.edu/viewdoc/download?doi=10.1.1.73.1045&rep=rep1&type=pdf\n",
        "\n",
        "        https://github.com/pondrejk/PolygonComplexity/blob/master/PolygonComplexity.py\n",
        "\n",
        "    @poly (Shapely Polygon object)\n",
        "\n",
        "    Returns normalized notches\n",
        "    \"\"\"\n",
        "    notches = 0\n",
        "    coords = list(poly.exterior.coords)\n",
        "    for i, pt in enumerate(coords[:-1]):\n",
        "        x_diff = coords[i+1][0] - pt[0]\n",
        "        y_diff = coords[i+1][1] - pt[1]\n",
        "        angle = math.atan2(y_diff, x_diff)\n",
        "        if angle > math.pi:\n",
        "            notches += 1\n",
        "\n",
        "    if notches != 0:\n",
        "        notches_norm = notches / (len(coords)-3)\n",
        "    else:\n",
        "        notches_norm = 0\n",
        "\n",
        "    return notches_norm\n",
        "\n",
        "def get_stats(gdf, coeff_ampl, coeff_conv):\n",
        "    \"\"\"\n",
        "    Get polygon's amplitude of vibration:\n",
        "\n",
        "    ampl(pol) = (boundary(pol) - boundary(convexhull(pol))) / boundary(pol)\n",
        "\n",
        "    Get deviation from convex hull:\n",
        "    conv(pol) = (area(convexhull(pol)) - area(pol)) / area(convexhull(pol))\n",
        "\n",
        "    Measure complexity\n",
        "\n",
        "     Based on:\n",
        "        \"Measuring the Complexity of Polygonal Objects\"\n",
        "        (Thomas Brinkhoff, Hans-Peter Kriegel, Ralf Schneider, Alexander Braun)\n",
        "        http://citeseerx.ist.psu.edu/viewdoc/download?doi=10.1.1.73.1045&rep=rep1&type=pdf\n",
        "\n",
        "        https://github.com/pondrejk/PolygonComplexity/blob/master/PolygonComplexity.py\n",
        "\n",
        "    Get area, centroid, distance from each others, boudary, convex hull,\n",
        "    perimeter, number of vertices\n",
        "\n",
        "    @param gdf(GeoDataframe): geodataframe with polygons\n",
        "    @param coeff_ampl(float): coefficient for amplitude's calculation\n",
        "    @param coeff_conv(float): coefficient for deviation from convex hull calculation\n",
        "\n",
        "    Returns tuple with dict of stats values and GeoDataframe with stats\n",
        "\n",
        "    \"\"\"\n",
        "    nb = gdf['geometry'].count()\n",
        "    gdf['area'] = gdf['geometry'].area\n",
        "    tot_area = gdf['area'].sum()\n",
        "    gdf['centroid'] = gdf['geometry'].centroid\n",
        "#    gdf['distance'] = gdf['geometry'].distance()\n",
        "    gdf['boundary'] = gdf['geometry'].boundary\n",
        "    gdf['convex_hull'] = gdf['geometry'].convex_hull\n",
        "    gdf['convex_boundary'] = gdf['geometry'].convex_hull.boundary\n",
        "    gdf['convex_area'] = gdf['geometry'].convex_hull.area\n",
        "    gdf['nbvertices'] = gdf['geometry'].apply(lambda x: len(list(x.exterior.coords)))\n",
        "    gdf['notches'] = gdf['geometry'].apply(lambda x: get_notches(x))\n",
        "\n",
        "    gdf['amplitude'] = gdf.apply(\n",
        "            lambda x:(\n",
        "                    x['boundary'].length - x['convex_boundary'].length\n",
        "                    ) / x['boundary'].length,\n",
        "                    axis=1)\n",
        "    gdf['convex'] = gdf.apply(\n",
        "            lambda x: (\n",
        "                    x['convex_area'] - x['area']\n",
        "                    ) / x['convex_area'],\n",
        "                    axis=1)\n",
        "    gdf['complexity'] = gdf.apply(\n",
        "            lambda x: coeff_ampl*x['amplitude'] * x['notches'] + coeff_conv * x['convex'],\n",
        "            axis=1\n",
        "            )\n",
        "\n",
        "    mean_amplitude = gdf['amplitude'].mean()\n",
        "    mean_convex = gdf['convex'].mean()\n",
        "    mean_norm_notches = gdf['notches'].mean()\n",
        "    mean_complexity = gdf['complexity'].mean()\n",
        "\n",
        "    gdf['perimeter'] = gdf['geometry'].length\n",
        "    tot_perimeter = gdf['perimeter'].sum()\n",
        "\n",
        "    if (\"lat\" in gdf.columns) or (\"lon\" in gdf.columns):\n",
        "        columns_drop = [\"boundary\", \"convex_hull\", \"convex_boundary\", \"convex_area\", \"centroid\", \"lat\", \"lon\"]\n",
        "    else:\n",
        "        columns_drop = [\"boundary\", \"convex_hull\", \"convex_boundary\", \"convex_area\", \"centroid\"]\n",
        "    gdf = gdf.drop(columns_drop, axis=1)\n",
        "\n",
        "    gdf = gdf.reset_index()\n",
        "\n",
        "    if nb > 1:\n",
        "        gdf = gdf.sort_values(by='perimeter', ascending=False)\n",
        "        gdf = gdf.iloc[[0]]\n",
        "\n",
        "    return {\n",
        "            'area':tot_area,\n",
        "            'perimeter':tot_perimeter,\n",
        "#            'distance':mean_distance,\n",
        "            'nb':nb,\n",
        "            'amplitude': mean_amplitude,\n",
        "            'convex': mean_convex,\n",
        "            'notches': mean_norm_notches,\n",
        "            'complexity': mean_complexity\n",
        "            }, gdf\n",
        "\n",
        "def complexity(shapes, images, coeff_ampl, coeff_conv, str_img):\n",
        "    \"\"\"\n",
        "    @param shapes(): glob directory with shapefiles\n",
        "    @param images(): glob directory with image files\n",
        "    @param coeff_ampl(float): coefficient for amplitude's calculation\n",
        "    @param coeff_conv(float): coefficient for deviation from convex hull calculation\n",
        "    @param str_img(str): string of image filepath\n",
        "\n",
        "    Returns all Polygons with stats in a GeoDatafame\n",
        "    \"\"\"\n",
        "    l_gdf = []\n",
        "    pd.options.display.float_format = '{:,.2f}'.format\n",
        "    for shape in shapes:\n",
        "        gdf = gpd.GeoDataFrame.from_file(shape)\n",
        "        dict_complexity, gdf = get_stats(gdf, coeff_ampl, coeff_conv)\n",
        "        name = os.path.basename(shape)\n",
        "        name = name.replace(\".shp\",\"\")\n",
        "        gdf['name'] = name\n",
        "        gdf['img'] = ''\n",
        "#        gdf = img_str(gdf, images, name, str_img)\n",
        "\n",
        "        gdf = gdf.drop('geometry', axis=1)\n",
        "        l_gdf.append(gdf)\n",
        "\n",
        "    gdf_tot = pd.concat(l_gdf)\n",
        "\n",
        "    return gdf_tot\n",
        "\n",
        "def img_str(x, str_img):\n",
        "    x[\"img\"] = str_img.format(x[\"name\"])\n",
        "\n",
        "    return x\n",
        "\n",
        "def to_table(df, tablefmt, filename, str_img):\n",
        "    \"\"\"\n",
        "    Export dataframe to a table file with a specific format\n",
        "    (see tabulate doc for more information:\n",
        "        https://pypi.org/project/tabulate/):\n",
        "        - \"plain\"\n",
        "        - \"simple\"\n",
        "        - \"grid\"\n",
        "        - \"fancy_grid\"\n",
        "        - \"pipe\"\n",
        "        - \"orgtbl\"\n",
        "        - \"jira\"\n",
        "        - \"presto\"\n",
        "        - \"psql\"\n",
        "        - \"rst\"\n",
        "        - \"mediawiki\"\n",
        "        - \"moinmoin\"\n",
        "        - \"youtrack\"\n",
        "        - \"html\"\n",
        "        - \"latex\"\n",
        "        - \"latex_raw\"\n",
        "        - \"latex_booktabs\"\n",
        "        - \"textile\"\n",
        "\n",
        "    @param df(dataframe): dataframe with stats and img\n",
        "    @tablefmt(str): format of the table\n",
        "    @filename(str): path and name to file\n",
        "    \"\"\"\n",
        "    df = df.apply(lambda x: img_str(x, str_img), axis=1)\n",
        "\n",
        "    f = open(filename, 'w')\n",
        "    f.write(tb(\n",
        "            df,\n",
        "            headers=\"keys\",\n",
        "            showindex=False,\n",
        "            tablefmt=tablefmt\n",
        "            ))\n",
        "    f.close()"
      ],
      "metadata": {
        "id": "MTt_2sritdTR"
      },
      "execution_count": null,
      "outputs": []
    },
    {
      "cell_type": "markdown",
      "source": [
        "And the actual code that uses some of these functions defined in the previous chunk"
      ],
      "metadata": {
        "id": "e3Pe_DzYuYYe"
      }
    },
    {
      "cell_type": "code",
      "source": [
        "# -*- coding: utf-8 -*-\n",
        "\"\"\"\n",
        "Created on Tue Jun  5 10:50:24 2018\n",
        "@author: thomas\n",
        "\"\"\"\n",
        "import glob\n",
        "from complexity import complexity, to_table\n",
        "\n",
        "if __name__ == \"__main__\":\n",
        "    dir_shapes = \".\\\\shapes\\\\*.shp\"\n",
        "    dir_img = \".\\\\images\\\\*.png\"\n",
        "    shapes = glob.glob(dir_shapes)\n",
        "    images = glob.glob(dir_img)\n",
        "    coeff_ampl, coeff_conv = 0.8, 0.2\n",
        "\n",
        "    #Export to latex\n",
        "    filename = \"complexity.tex\"\n",
        "    tablefmt = \"latex_raw\"\n",
        "    str_img = \"\\includegraphics[width=1cm]{{figures/{}.png}}\"\n",
        "\n",
        "    gdf = complexity(shapes, images, coeff_ampl, coeff_conv, str_img)\n",
        "    to_table(gdf, tablefmt, filename, str_img)\n",
        "\n",
        "    #Export to html\n",
        "    filename = \"complexity.html\"\n",
        "    tablefmt = \"html\"\n",
        "    str_img = '<img src=\".//images//{}.png\" style=\"width:10%;\">'\n",
        "\n",
        "    to_table(gdf, tablefmt, filename, str_img)"
      ],
      "metadata": {
        "id": "xmcMP_xfudo8"
      },
      "execution_count": null,
      "outputs": []
    }
  ]
}